{
 "cells": [
  {
   "cell_type": "markdown",
   "metadata": {},
   "source": [
    "Measure MSE - Iris"
   ]
  },
  {
   "cell_type": "code",
   "execution_count": 1,
   "metadata": {},
   "outputs": [],
   "source": [
    "import json\n",
    "\n",
    "with open('../../../results/iris_ssnp/MSE_results_ssnp.json', 'r') as file:\n",
    "    MSE_results = json.load(file)"
   ]
  },
  {
   "cell_type": "code",
   "execution_count": 4,
   "metadata": {},
   "outputs": [
    {
     "name": "stdout",
     "output_type": "stream",
     "text": [
      "0.012988828957273211\n"
     ]
    }
   ],
   "source": [
    "mean_mses = [value['mse_mean'] for value in MSE_results.values()]\n",
    "overall_mean_mse = np.mean(mean_mses)\n",
    "print(overall_mean_mse)"
   ]
  }
 ],
 "metadata": {
  "kernelspec": {
   "display_name": "jan-gpu",
   "language": "python",
   "name": "python3"
  },
  "language_info": {
   "codemirror_mode": {
    "name": "ipython",
    "version": 3
   },
   "file_extension": ".py",
   "mimetype": "text/x-python",
   "name": "python",
   "nbconvert_exporter": "python",
   "pygments_lexer": "ipython3",
   "version": "3.9.21"
  }
 },
 "nbformat": 4,
 "nbformat_minor": 2
}
