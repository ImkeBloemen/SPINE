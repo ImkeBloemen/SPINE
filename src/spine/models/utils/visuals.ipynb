{
 "cells": [
  {
   "cell_type": "code",
   "execution_count": 9,
   "metadata": {},
   "outputs": [
    {
     "data": {
      "image/png": "[encoded data removed]",
      "text/plain": [
       "<Figure size 1000x200 with 1 Axes>"
      ]
     },
     "metadata": {},
     "output_type": "display_data"
    },
    {
     "data": {
      "text/plain": [
       "'../../../output_data/visuals/gradient_colors.txt'"
      ]
     },
     "execution_count": 9,
     "metadata": {},
     "output_type": "execute_result"
    }
   ],
   "source": [
    "import matplotlib.pyplot as plt\n",
    "import matplotlib.colors as mcolors\n",
    "import numpy as np\n",
    "import os\n",
    "\n",
    "# Define the colors\n",
    "start_color = \"#6DBE45\"\n",
    "middle_color = \"#FFFFFF\"\n",
    "end_color = \"#ED2A2A\"\n",
    "\n",
    "# Number of steps for each gradient\n",
    "steps = 20\n",
    "\n",
    "# Create the gradients\n",
    "first_segment = [\n",
    "    mcolors.to_hex(np.array(mcolors.to_rgba(start_color)) * (1 - t) + np.array(mcolors.to_rgba(middle_color)) * t)\n",
    "    for t in np.linspace(0, 1, steps)\n",
    "]\n",
    "second_segment = [\n",
    "    mcolors.to_hex(np.array(mcolors.to_rgba(middle_color)) * (1 - t) + np.array(mcolors.to_rgba(end_color)) * t)\n",
    "    for t in np.linspace(0, 1, steps)\n",
    "]\n",
    "\n",
    "# Combine both segments\n",
    "full_gradient = first_segment + second_segment\n",
    "\n",
    "gradient_file_path = \"../../../output_data/visuals/gradient_colors.txt\"\n",
    "# Ensure the file path exists or create the file\n",
    "if not os.path.exists(gradient_file_path):\n",
    "    with open(gradient_file_path, \"w\") as file:\n",
    "        pass  # Create an empty file\n",
    "\n",
    "# Save the colors to the file\n",
    "with open(gradient_file_path, \"w\") as file:\n",
    "    for color in full_gradient:\n",
    "        file.write(color + \"\\n\")\n",
    "\n",
    "# Visualize the gradient\n",
    "fig, ax = plt.subplots(figsize=(10, 2))\n",
    "ax.imshow([np.arange(len(full_gradient))], cmap=mcolors.ListedColormap(full_gradient), aspect=\"auto\")\n",
    "ax.set_axis_off()\n",
    "plt.show()\n",
    "\n",
    "gradient_file_path\n",
    "\n"
   ]
  }
 ],
 "metadata": {
  "kernelspec": {
   "display_name": "req-gpu",
   "language": "python",
   "name": "python3"
  },
  "language_info": {
   "codemirror_mode": {
    "name": "ipython",
    "version": 3
   },
   "file_extension": ".py",
   "mimetype": "text/x-python",
   "name": "python",
   "nbconvert_exporter": "python",
   "pygments_lexer": "ipython3",
   "version": "3.9.20"
  }
 },
 "nbformat": 4,
 "nbformat_minor": 2
}
